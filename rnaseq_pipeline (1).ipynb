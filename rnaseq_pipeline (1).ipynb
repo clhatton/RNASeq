{
 "cells": [
  {
   "cell_type": "markdown",
   "id": "ccd8a980-48e2-4c6b-ba6b-89976643a8af",
   "metadata": {},
   "source": [
    "# RNASeq Pipeline \n",
    "## CHatton 01/2024"
   ]
  },
  {
   "cell_type": "markdown",
   "id": "ec0058ea-c803-4e3d-9035-cc1c5a6ab4b6",
   "metadata": {},
   "source": [
    "Step 1: Set working directory where fastq files are. "
   ]
  },
  {
   "cell_type": "markdown",
   "id": "b96620bb-3feb-4e51-9a3a-ae188f4e5321",
   "metadata": {},
   "source": [
    "Step 2: Fastqc the fastq files, but save the qc files in a different folder. This is what the -o command in fastqc is telling it to do. "
   ]
  },
  {
   "cell_type": "code",
   "execution_count": null,
   "id": "402b28a4-f35a-4018-8a82-66f856f87958",
   "metadata": {},
   "outputs": [],
   "source": [
    "fastqc -o ~/path_for_save zipped_file.fastq.gz"
   ]
  },
  {
   "cell_type": "markdown",
   "id": "ffc8250c-34d1-4eb1-b04d-8e6364acd34a",
   "metadata": {},
   "source": [
    "Step 3: Trim the files with trimmomatic - point to the trimmomatic jar file and set the proper threads. Make sure adapters path is defined. Minimum length of 36. You can add a location for the output file by putting the path before the file name. "
   ]
  },
  {
   "cell_type": "code",
   "execution_count": null,
   "id": "149f6ed4-e287-405e-a1cf-9a843b28e026",
   "metadata": {},
   "outputs": [],
   "source": [
    "java -jar ./trimmomatic-0.39/trimmomatic-0.39.jar SE -phred33 -threads 8 \\\n",
    "zipped_file.fastq.gz output-filename.fastq.gz \\\n",
    "ILLUMINACLIP:/home/courtney.hatton-umw/trimmomatic-0.39/adapters/TruSeq3-SE.fa:2:30:10 \\\n",
    "LEADING:3 TRAILING:3 SLIDINGWINDOW:4:15 MINLEN:36"
   ]
  },
  {
   "cell_type": "markdown",
   "id": "11a12fdf-3ca9-4add-89d5-df6747a3be15",
   "metadata": {},
   "source": [
    "Step 4: Fastqc the file again, make sure the adapters are now green checked. "
   ]
  },
  {
   "cell_type": "code",
   "execution_count": null,
   "id": "6f23c940-d6f3-4940-b08a-9c840d3b8322",
   "metadata": {},
   "outputs": [],
   "source": [
    "fastqc -o ~/path_for_save trimmed-zipped_file.fastq.gz"
   ]
  },
  {
   "cell_type": "markdown",
   "id": "febee121-c510-4212-b54e-e7e14739c0c9",
   "metadata": {},
   "source": [
    "Step 5: Using RSEM and STAR, map the trimmed file and get expression counts. (Don't make a permanent BAM file). -p is the threads modifier. \n",
    "RSEM needs the reference files which have previously been generated using the following code: \n",
    "\n",
    "     rsem-prepare-reference -p 8 \\\n",
    "     --gtf ~/data/genome/hg38/gencode.v45.annotation.gtf \\\n",
    "               --STAR -star-sjdboverhang 149 \\\n",
    "               ~/data/genome/hg38/hg38.fa \\\n",
    "               ~/data/genome/hg38/RSEM/RSEM "
   ]
  },
  {
   "cell_type": "code",
   "execution_count": null,
   "id": "ca67fb20-ba3e-4bce-84eb-21f95de17584",
   "metadata": {},
   "outputs": [],
   "source": [
    "rsem-calculate-expression \\\n",
    "--star \\\n",
    "-p 8 \\\n",
    "--no-bam-output \\\n",
    "input.fastq ~/data/genome/hg38/RSEM/RSEM(reference_files) ~/output_path/and_prefix"
   ]
  },
  {
   "cell_type": "code",
   "execution_count": null,
   "id": "3775330e-a4dc-4bc1-accc-de74f9e37795",
   "metadata": {},
   "outputs": [],
   "source": []
  }
 ],
 "metadata": {
  "kernelspec": {
   "display_name": "Bash",
   "language": "bash",
   "name": "bash"
  },
  "language_info": {
   "codemirror_mode": "shell",
   "file_extension": ".sh",
   "mimetype": "text/x-sh",
   "name": "bash"
  }
 },
 "nbformat": 4,
 "nbformat_minor": 5
}
